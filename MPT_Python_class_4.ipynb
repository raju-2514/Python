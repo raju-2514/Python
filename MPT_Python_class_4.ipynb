{
  "nbformat": 4,
  "nbformat_minor": 0,
  "metadata": {
    "colab": {
      "provenance": []
    },
    "kernelspec": {
      "name": "python3",
      "display_name": "Python 3"
    },
    "language_info": {
      "name": "python"
    }
  },
  "cells": [
    {
      "cell_type": "code",
      "execution_count": 3,
      "metadata": {
        "colab": {
          "base_uri": "https://localhost:8080/"
        },
        "id": "rDVEZiqS_ZA1",
        "outputId": "9bfa09d9-b729-4aec-841a-86ca21edb3e0"
      },
      "outputs": [
        {
          "output_type": "stream",
          "name": "stdout",
          "text": [
            "['Ahsanul', 'Raju', 'Johora', 'Radil']\n",
            "<class 'list'>\n",
            "[2, 5, 7, 8]\n",
            "['Raju', 15, 51.21, True]\n",
            "[]\n"
          ]
        }
      ],
      "source": [
        "#List is a collection of values\n",
        "#in C  Arrays in python its call List\n",
        "names=[\"Ahsanul\",\"Raju\",\"Johora\",\"Radil\"]\n",
        "print(names)\n",
        "print(type(names))\n",
        "\n",
        "#list of numbers\n",
        "list_numbers=[2,5,7,8]\n",
        "print(list_numbers)\n",
        "\n",
        "#List with mixed premitive\n",
        "\n",
        "mixed_list=[\"Raju\",15,51.21,True];\n",
        "print(mixed_list)\n",
        "\n",
        "#Empty list\n",
        "empty_list=[]\n",
        "print(empty_list)"
      ]
    },
    {
      "cell_type": "code",
      "source": [
        "#List of color and getting the lenght of color\n",
        "colors=[\"red\",\"green\",\"blue\",\"yellow\"]\n",
        "print(colors)\n",
        "\n",
        "lenght=len(colors)\n",
        "print(lenght)\n",
        "\n",
        "\n",
        "print(colors[0])\n",
        "print(colors[1])\n",
        "print(colors[2])\n",
        "print(colors[3])\n",
        "\n",
        "colors.append(\"white\")\n",
        "print(colors)\n",
        "\n",
        "colors.remove(\"blue\")\n",
        "print(colors)\n",
        "\n",
        "colors.index(\"white\")\n",
        "print(colors)\n",
        "\n",
        "colors.insert(2,\"pink\")\n",
        "print(colors)\n",
        "\n",
        "colors.sort()\n",
        "print(colors)\n",
        "\n"
      ],
      "metadata": {
        "colab": {
          "base_uri": "https://localhost:8080/"
        },
        "id": "OgBOJrpbDz9V",
        "outputId": "92289bcd-b273-45c1-b8bb-b1eedeac6c93"
      },
      "execution_count": 7,
      "outputs": [
        {
          "output_type": "stream",
          "name": "stdout",
          "text": [
            "['red', 'green', 'blue', 'yellow']\n",
            "4\n",
            "red\n",
            "green\n",
            "blue\n",
            "yellow\n",
            "['red', 'green', 'blue', 'yellow', 'white']\n",
            "['red', 'green', 'yellow', 'white']\n",
            "['red', 'green', 'yellow', 'white']\n",
            "['red', 'green', 'pink', 'yellow', 'white']\n",
            "['green', 'pink', 'red', 'white', 'yellow']\n"
          ]
        }
      ]
    }
  ]
}